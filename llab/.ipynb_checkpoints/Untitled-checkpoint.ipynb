{
 "cells": [
  {
   "cell_type": "code",
   "execution_count": 15,
   "id": "c1ea65f5",
   "metadata": {},
   "outputs": [],
   "source": [
    "recordedBy_list = []\n",
    "recordedBy = \"test\"\n",
    "recordedBy_list = recordedBy_list.append(recordedBy)"
   ]
  },
  {
   "cell_type": "code",
   "execution_count": 16,
   "id": "dd2f6dc5",
   "metadata": {},
   "outputs": [
    {
     "name": "stdout",
     "output_type": "stream",
     "text": [
      "None\n"
     ]
    }
   ],
   "source": [
    "print(recordedBy_list)"
   ]
  },
  {
   "cell_type": "code",
   "execution_count": 8,
   "id": "5a8ac07f",
   "metadata": {},
   "outputs": [
    {
     "data": {
      "text/plain": [
       "'jon|jostein|patrycja'"
      ]
     },
     "execution_count": 8,
     "metadata": {},
     "output_type": "execute_result"
    }
   ],
   "source": [
    "\"|\".join(test)"
   ]
  }
 ],
 "metadata": {
  "kernelspec": {
   "display_name": "Python 3 (ipykernel)",
   "language": "python",
   "name": "python3"
  },
  "language_info": {
   "codemirror_mode": {
    "name": "ipython",
    "version": 3
   },
   "file_extension": ".py",
   "mimetype": "text/x-python",
   "name": "python",
   "nbconvert_exporter": "python",
   "pygments_lexer": "ipython3",
   "version": "3.8.5"
  }
 },
 "nbformat": 4,
 "nbformat_minor": 5
}
