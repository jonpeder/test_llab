{
 "cells": [
  {
   "cell_type": "code",
   "execution_count": 10,
   "id": "840068a0",
   "metadata": {},
   "outputs": [],
   "source": [
    "m,n = [\"tust\", \"tist\"], [\"test\", \"tast\"]"
   ]
  },
  {
   "cell_type": "code",
   "execution_count": 11,
   "id": "3ef8f32f",
   "metadata": {},
   "outputs": [
    {
     "name": "stdout",
     "output_type": "stream",
     "text": [
      "['tust', 'tist']\n"
     ]
    }
   ],
   "source": [
    "print(m)"
   ]
  }
 ],
 "metadata": {
  "kernelspec": {
   "display_name": "Python 3 (ipykernel)",
   "language": "python",
   "name": "python3"
  },
  "language_info": {
   "codemirror_mode": {
    "name": "ipython",
    "version": 3
   },
   "file_extension": ".py",
   "mimetype": "text/x-python",
   "name": "python",
   "nbconvert_exporter": "python",
   "pygments_lexer": "ipython3",
   "version": "3.8.5"
  }
 },
 "nbformat": 4,
 "nbformat_minor": 5
}
