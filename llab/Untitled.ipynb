{
 "cells": [
  {
   "cell_type": "code",
   "execution_count": 14,
   "id": "0d429d49",
   "metadata": {},
   "outputs": [],
   "source": [
    "#recordedBy_list = []\n",
    "recordedBy = \"test\"\n",
    "recordedBy_list.append(recordedBy)"
   ]
  },
  {
   "cell_type": "code",
   "execution_count": 15,
   "id": "13050d5a",
   "metadata": {},
   "outputs": [
    {
     "name": "stdout",
     "output_type": "stream",
     "text": [
      "['test', 'test', 'test', 'test']\n"
     ]
    }
   ],
   "source": [
    "print(recordedBy_list)"
   ]
  },
  {
   "cell_type": "code",
   "execution_count": 22,
   "id": "e12be8fa",
   "metadata": {},
   "outputs": [
    {
     "data": {
      "text/plain": [
       "['testtry', 'testtry', 'testtry', 'testtry']"
      ]
     },
     "execution_count": 22,
     "metadata": {},
     "output_type": "execute_result"
    }
   ],
   "source": [
    "[s + \"try\" for s in recordedBy_list]"
   ]
  }
 ],
 "metadata": {
  "kernelspec": {
   "display_name": "Python 3 (ipykernel)",
   "language": "python",
   "name": "python3"
  },
  "language_info": {
   "codemirror_mode": {
    "name": "ipython",
    "version": 3
   },
   "file_extension": ".py",
   "mimetype": "text/x-python",
   "name": "python",
   "nbconvert_exporter": "python",
   "pygments_lexer": "ipython3",
   "version": "3.8.5"
  }
 },
 "nbformat": 4,
 "nbformat_minor": 5
}
